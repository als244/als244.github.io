{
 "cells": [
  {
   "cell_type": "code",
   "execution_count": 1,
   "id": "d26d83ad-9661-4ac2-87e5-7042e9cae4e9",
   "metadata": {},
   "outputs": [],
   "source": [
    "import glob\n",
    "import os"
   ]
  },
  {
   "cell_type": "code",
   "execution_count": 14,
   "id": "eb0cd9f8-8671-43bf-8b81-e4c4deed5ad5",
   "metadata": {},
   "outputs": [],
   "source": [
    "location_strs = [\"Summer in London\", \"Switzerland & Spain\", \"European Spring Break vs. Covid\", \"Chicago to SF Road Trip\", \"Costa Rica\", \"Israel\", \"Favorite Pictures\"]\n",
    "times = [\"Summer 2018\", \"November 2019\", \"March 2020\", \"August 2020\", \"June 2021\", \"July 2021\", \"2018-2022\"]\n",
    "pic_dirs = [\"london_summer\", \"switz_and_spain\", \"amsterdam_dublin_madrid\", \"chicago_to_sf_road_trip\", \"costa_rica\", \"israel\", \"favorite_pictures\"]\n",
    "output_files = [\"london_summer.html\", \"switz_and_spain.html\", \"amsterdam_dublin_madrid.html\", \"chicago_to_sf_road_trip.html\", \"costa_rica.html\", \"israel.html\", \"favorite_pictures.html\"]\n",
    "\n",
    "for i in range(len(location_strs)):\n",
    "    html_template = \"\"\"<!DOCTYPE html>\n",
    "\n",
    "        <html lang=\"en\">\n",
    "\n",
    "            <head>\n",
    "\n",
    "                <meta charset=\"utf-8\">\n",
    "                <link rel=\"stylesheet\" href=\"/static/main.css\" type=\"text/css\">\n",
    "                <title>{location}</title>\n",
    "            </head>\n",
    "\n",
    "            <body>\n",
    "\n",
    "                <br>\n",
    "\n",
    "                    <p> <em> Place: </em> <h2> {location} </h2> </p>\n",
    "                    <p> <em> Time: </em> <h4> {time} </h4> </p>\n",
    "    \n",
    "                <br>\n",
    "                \"\"\".format(location=location_strs[i], time=times[i])\n",
    "    \n",
    "    pic_directory = \"assets/\" + pic_dirs[i]\n",
    "    picture_files = glob.glob(pic_directory + \"/*\")\n",
    "    for img_file in picture_files:\n",
    "        img_file_base = os.path.basename(img_file).split(\".\")[0]\n",
    "        img_str = \"\"\"\n",
    "                <hr>\n",
    "                <div>\n",
    "                    <img src=\"{filename}\" alt={file_base} width=\"800\" height=\"600\">\n",
    "                </div>\n",
    "                    \"\"\".format(filename=img_file, file_base = img_file_base)\n",
    "        html_template += img_str\n",
    "    \n",
    "    html_end = \"\"\"\n",
    "            </body>\n",
    "        </html>\"\"\"\n",
    "    html_template += html_end\n",
    "    html_file = open(\"travels/\" + output_files[i], \"w+\")\n",
    "    html_file.write(html_template)\n",
    "    html_file.close()"
   ]
  },
  {
   "cell_type": "code",
   "execution_count": null,
   "id": "f901a295-2711-4a4c-b7ea-2da6067ab774",
   "metadata": {},
   "outputs": [],
   "source": []
  }
 ],
 "metadata": {
  "kernelspec": {
   "display_name": "Python 3 (ipykernel)",
   "language": "python",
   "name": "python3"
  },
  "language_info": {
   "codemirror_mode": {
    "name": "ipython",
    "version": 3
   },
   "file_extension": ".py",
   "mimetype": "text/x-python",
   "name": "python",
   "nbconvert_exporter": "python",
   "pygments_lexer": "ipython3",
   "version": "3.10.6"
  }
 },
 "nbformat": 4,
 "nbformat_minor": 5
}
